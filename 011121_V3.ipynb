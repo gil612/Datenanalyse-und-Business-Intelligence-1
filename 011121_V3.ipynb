{
 "cells": [
  {
   "cell_type": "code",
   "execution_count": 1,
   "id": "c6b9a7f5-721d-48b0-a710-f71973a8b0df",
   "metadata": {},
   "outputs": [],
   "source": [
    "import pandas as pd\n",
    "import plotly.express as px\n",
    "import seaborn as sns\n",
    "from matplotlib import pyplot as plt\n",
    "import datetime as dt\n",
    "import matplotlib.dates as md"
   ]
  },
  {
   "cell_type": "code",
   "execution_count": 2,
   "id": "a172bdc0-6036-4521-9124-5ddecb9c0e48",
   "metadata": {},
   "outputs": [],
   "source": [
    "df = pd.read_parquet('escooter_history.parquet', engine='pyarrow')\n",
    "df['weekday'] = pd.Series(df.datetime).dt.day_name()\n",
    "df.workingday = 1\n",
    "df.holiday = 0\n",
    "# set Saturdays and Sundays not as Workingday\n",
    "df.loc[df['weekday'].isin(['Saturday','Sunday']), 'workingday'] = 0\n",
    "\n",
    "# set Tuesdays aans Wednesday as Workingday, but not as Holiday\n",
    "df.loc[df['weekday'].isin(['Tuesday','Wednesday']), 'workingday'] = 1\n",
    "df.loc[df['weekday'].isin(['Tuesday','Wednesday']), 'holiday'] = 0\n",
    "# function to set Holidays to 1, Working Day to 0.\n",
    "# List of Holidays\n",
    "# Based on https://www.officeholidays.com/countries/usa/2019 , https://www.officeholidays.com/countries/usa/2020\n",
    "holidays2019 = [(2019,1,1),(2019,1,21),(2019,2,18),(2019,5,27),(2019,7,4),(2019,9,2),(2019,10,14),(2019,11,11),(2019,11,28),(2019,12,25)]\n",
    "holidays2020 = [(2020,1,1),(2020,1,20),(2020,2,17),(2020,5,25),(2020,7,3),(2020,7,4),(2020,9,7),(2020,10,12),(2020,11,11),(2020,11,26),(2020,12,25)]\n",
    "\n",
    "def setHolidays (t):\n",
    "    y = t[0]\n",
    "    m = t[1]\n",
    "    d = t[2]\n",
    "    \n",
    "    start = dt.datetime.strptime(f'{y}-{m}-{d} 00:00:00', '%Y-%m-%d %H:%M:%S')\n",
    "    end = dt.datetime.strptime(f'{y}-{m}-{d+1} 00:00:00', '%Y-%m-%d %H:%M:%S')\n",
    " \n",
    "    df.loc[(df.datetime >= start) & (df.datetime < end), 'holiday'] = 1\n",
    "    df.loc[(df.datetime >= start) & (df.datetime < end), 'workingday'] = 0\n",
    "for h in (holidays2019+holidays2020): \n",
    "    setHolidays(h) "
   ]
  },
  {
   "cell_type": "code",
   "execution_count": 11,
   "id": "53becb1d-a1e5-47a9-b2ea-9b10d15fd564",
   "metadata": {},
   "outputs": [
    {
     "data": {
      "text/html": [
       "<div>\n",
       "<style scoped>\n",
       "    .dataframe tbody tr th:only-of-type {\n",
       "        vertical-align: middle;\n",
       "    }\n",
       "\n",
       "    .dataframe tbody tr th {\n",
       "        vertical-align: top;\n",
       "    }\n",
       "\n",
       "    .dataframe thead th {\n",
       "        text-align: right;\n",
       "    }\n",
       "</style>\n",
       "<table border=\"1\" class=\"dataframe\">\n",
       "  <thead>\n",
       "    <tr style=\"text-align: right;\">\n",
       "      <th>holiday</th>\n",
       "      <th>0</th>\n",
       "      <th>1</th>\n",
       "      <th>All</th>\n",
       "    </tr>\n",
       "    <tr>\n",
       "      <th>registered_customer</th>\n",
       "      <th></th>\n",
       "      <th></th>\n",
       "      <th></th>\n",
       "    </tr>\n",
       "  </thead>\n",
       "  <tbody>\n",
       "    <tr>\n",
       "      <th>False</th>\n",
       "      <td>0.181</td>\n",
       "      <td>0.006</td>\n",
       "      <td>0.187</td>\n",
       "    </tr>\n",
       "    <tr>\n",
       "      <th>True</th>\n",
       "      <td>0.789</td>\n",
       "      <td>0.023</td>\n",
       "      <td>0.813</td>\n",
       "    </tr>\n",
       "    <tr>\n",
       "      <th>All</th>\n",
       "      <td>0.971</td>\n",
       "      <td>0.029</td>\n",
       "      <td>1.000</td>\n",
       "    </tr>\n",
       "  </tbody>\n",
       "</table>\n",
       "</div>"
      ],
      "text/plain": [
       "holiday                  0      1    All\n",
       "registered_customer                     \n",
       "False                0.181  0.006  0.187\n",
       "True                 0.789  0.023  0.813\n",
       "All                  0.971  0.029  1.000"
      ]
     },
     "execution_count": 11,
     "metadata": {},
     "output_type": "execute_result"
    }
   ],
   "source": [
    "pd.crosstab(df.registered_customer,df.holiday , normalize='all', margins = True).round(3)"
   ]
  },
  {
   "cell_type": "code",
   "execution_count": 10,
   "id": "d0770533-ba98-4cd2-aaac-251076ad065b",
   "metadata": {},
   "outputs": [
    {
     "data": {
      "text/html": [
       "<div>\n",
       "<style scoped>\n",
       "    .dataframe tbody tr th:only-of-type {\n",
       "        vertical-align: middle;\n",
       "    }\n",
       "\n",
       "    .dataframe tbody tr th {\n",
       "        vertical-align: top;\n",
       "    }\n",
       "\n",
       "    .dataframe thead th {\n",
       "        text-align: right;\n",
       "    }\n",
       "</style>\n",
       "<table border=\"1\" class=\"dataframe\">\n",
       "  <thead>\n",
       "    <tr style=\"text-align: right;\">\n",
       "      <th>workingday</th>\n",
       "      <th>0</th>\n",
       "      <th>1</th>\n",
       "      <th>All</th>\n",
       "    </tr>\n",
       "    <tr>\n",
       "      <th>registered_customer</th>\n",
       "      <th></th>\n",
       "      <th></th>\n",
       "      <th></th>\n",
       "    </tr>\n",
       "  </thead>\n",
       "  <tbody>\n",
       "    <tr>\n",
       "      <th>False</th>\n",
       "      <td>0.041</td>\n",
       "      <td>0.146</td>\n",
       "      <td>0.187</td>\n",
       "    </tr>\n",
       "    <tr>\n",
       "      <th>True</th>\n",
       "      <td>0.276</td>\n",
       "      <td>0.537</td>\n",
       "      <td>0.813</td>\n",
       "    </tr>\n",
       "    <tr>\n",
       "      <th>All</th>\n",
       "      <td>0.316</td>\n",
       "      <td>0.684</td>\n",
       "      <td>1.000</td>\n",
       "    </tr>\n",
       "  </tbody>\n",
       "</table>\n",
       "</div>"
      ],
      "text/plain": [
       "workingday               0      1    All\n",
       "registered_customer                     \n",
       "False                0.041  0.146  0.187\n",
       "True                 0.276  0.537  0.813\n",
       "All                  0.316  0.684  1.000"
      ]
     },
     "execution_count": 10,
     "metadata": {},
     "output_type": "execute_result"
    }
   ],
   "source": [
    "pd.crosstab(df.registered_customer,df.workingday, normalize='all',margins=True).round(3)"
   ]
  },
  {
   "cell_type": "code",
   "execution_count": 5,
   "id": "ef4f8cf7-2b18-40e4-9675-071d837d3733",
   "metadata": {},
   "outputs": [
    {
     "data": {
      "text/html": [
       "<div>\n",
       "<style scoped>\n",
       "    .dataframe tbody tr th:only-of-type {\n",
       "        vertical-align: middle;\n",
       "    }\n",
       "\n",
       "    .dataframe tbody tr th {\n",
       "        vertical-align: top;\n",
       "    }\n",
       "\n",
       "    .dataframe thead th {\n",
       "        text-align: right;\n",
       "    }\n",
       "</style>\n",
       "<table border=\"1\" class=\"dataframe\">\n",
       "  <thead>\n",
       "    <tr style=\"text-align: right;\">\n",
       "      <th>holiday</th>\n",
       "      <th>0</th>\n",
       "      <th>1</th>\n",
       "      <th>All</th>\n",
       "    </tr>\n",
       "    <tr>\n",
       "      <th>workingday</th>\n",
       "      <th></th>\n",
       "      <th></th>\n",
       "      <th></th>\n",
       "    </tr>\n",
       "  </thead>\n",
       "  <tbody>\n",
       "    <tr>\n",
       "      <th>0</th>\n",
       "      <td>0.286981</td>\n",
       "      <td>0.029322</td>\n",
       "      <td>0.316304</td>\n",
       "    </tr>\n",
       "    <tr>\n",
       "      <th>1</th>\n",
       "      <td>0.683696</td>\n",
       "      <td>0.000000</td>\n",
       "      <td>0.683696</td>\n",
       "    </tr>\n",
       "    <tr>\n",
       "      <th>All</th>\n",
       "      <td>0.970678</td>\n",
       "      <td>0.029322</td>\n",
       "      <td>1.000000</td>\n",
       "    </tr>\n",
       "  </tbody>\n",
       "</table>\n",
       "</div>"
      ],
      "text/plain": [
       "holiday            0         1       All\n",
       "workingday                              \n",
       "0           0.286981  0.029322  0.316304\n",
       "1           0.683696  0.000000  0.683696\n",
       "All         0.970678  0.029322  1.000000"
      ]
     },
     "execution_count": 5,
     "metadata": {},
     "output_type": "execute_result"
    }
   ],
   "source": [
    "pd.crosstab(df.workingday,df.holiday  , normalize='all',margins=True)"
   ]
  },
  {
   "cell_type": "code",
   "execution_count": 6,
   "id": "d58ae512-5acf-4392-83f4-466ffb5bfee6",
   "metadata": {},
   "outputs": [
    {
     "data": {
      "text/html": [
       "<div>\n",
       "<style scoped>\n",
       "    .dataframe tbody tr th:only-of-type {\n",
       "        vertical-align: middle;\n",
       "    }\n",
       "\n",
       "    .dataframe tbody tr th {\n",
       "        vertical-align: top;\n",
       "    }\n",
       "\n",
       "    .dataframe thead th {\n",
       "        text-align: right;\n",
       "    }\n",
       "</style>\n",
       "<table border=\"1\" class=\"dataframe\">\n",
       "  <thead>\n",
       "    <tr style=\"text-align: right;\">\n",
       "      <th>col_0</th>\n",
       "      <th>0</th>\n",
       "      <th>1</th>\n",
       "      <th>All</th>\n",
       "    </tr>\n",
       "    <tr>\n",
       "      <th>registered_customer</th>\n",
       "      <th></th>\n",
       "      <th></th>\n",
       "      <th></th>\n",
       "    </tr>\n",
       "  </thead>\n",
       "  <tbody>\n",
       "    <tr>\n",
       "      <th>False</th>\n",
       "      <td>0.034835</td>\n",
       "      <td>0.152314</td>\n",
       "      <td>0.187149</td>\n",
       "    </tr>\n",
       "    <tr>\n",
       "      <th>True</th>\n",
       "      <td>0.252146</td>\n",
       "      <td>0.560705</td>\n",
       "      <td>0.812851</td>\n",
       "    </tr>\n",
       "    <tr>\n",
       "      <th>All</th>\n",
       "      <td>0.286981</td>\n",
       "      <td>0.713019</td>\n",
       "      <td>1.000000</td>\n",
       "    </tr>\n",
       "  </tbody>\n",
       "</table>\n",
       "</div>"
      ],
      "text/plain": [
       "col_0                       0         1       All\n",
       "registered_customer                              \n",
       "False                0.034835  0.152314  0.187149\n",
       "True                 0.252146  0.560705  0.812851\n",
       "All                  0.286981  0.713019  1.000000"
      ]
     },
     "execution_count": 6,
     "metadata": {},
     "output_type": "execute_result"
    }
   ],
   "source": [
    "pd.crosstab(df.registered_customer,df['workingday'] | df['holiday'], normalize = 'all', margins=True)"
   ]
  },
  {
   "cell_type": "code",
   "execution_count": 7,
   "id": "c1594f16-fa3f-4985-a5c2-d79463e55ad9",
   "metadata": {},
   "outputs": [
    {
     "data": {
      "text/plain": [
       "<AxesSubplot:xlabel='registered_customer', ylabel='count'>"
      ]
     },
     "execution_count": 7,
     "metadata": {},
     "output_type": "execute_result"
    },
    {
     "data": {
      "image/png": "[encoded data removed]",
      "text/plain": [
       "<Figure size 432x288 with 1 Axes>"
      ]
     },
     "metadata": {
      "needs_background": "light"
     },
     "output_type": "display_data"
    }
   ],
   "source": [
    "sns.countplot(data=df, x='registered_customer')"
   ]
  },
  {
   "cell_type": "code",
   "execution_count": null,
   "id": "33466f35-43d7-4bc5-abb6-2b4e94da05ac",
   "metadata": {},
   "outputs": [],
   "source": []
  }
 ],
 "metadata": {
  "kernelspec": {
   "display_name": "Python 3",
   "language": "python",
   "name": "python3"
  },
  "language_info": {
   "codemirror_mode": {
    "name": "ipython",
    "version": 3
   },
   "file_extension": ".py",
   "mimetype": "text/x-python",
   "name": "python",
   "nbconvert_exporter": "python",
   "pygments_lexer": "ipython3",
   "version": "3.8.8"
  }
 },
 "nbformat": 4,
 "nbformat_minor": 5
}
