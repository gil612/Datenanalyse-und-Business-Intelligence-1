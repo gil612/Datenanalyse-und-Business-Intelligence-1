{
 "cells": [
  {
   "cell_type": "code",
   "execution_count": 1,
   "id": "a2a89a68-0d56-4076-9b2e-8a92af3c783e",
   "metadata": {},
   "outputs": [],
   "source": [
    "import pandas as pd\n",
    "import seaborn as sns\n",
    "from matplotlib import pyplot as plt\n",
    "import datetime as dt\n",
    "import numpy as np\n",
    "import plotly.express as px"
   ]
  },
  {
   "cell_type": "code",
   "execution_count": 2,
   "id": "ca78e930-e943-4cf3-bcac-d8b421979e6f",
   "metadata": {},
   "outputs": [],
   "source": [
    "df = pd.read_parquet('escooter_history.parquet', engine='pyarrow')"
   ]
  },
  {
   "cell_type": "code",
   "execution_count": 3,
   "id": "80d60805-e458-47fd-a670-28265691032f",
   "metadata": {},
   "outputs": [
    {
     "data": {
      "text/plain": [
       "<AxesSubplot:xlabel='temp', ylabel='atemp'>"
      ]
     },
     "execution_count": 3,
     "metadata": {},
     "output_type": "execute_result"
    },
    {
     "data": {
      "image/png": "[encoded data removed]",
      "text/plain": [
       "<Figure size 432x288 with 1 Axes>"
      ]
     },
     "metadata": {
      "needs_background": "light"
     },
     "output_type": "display_data"
    }
   ],
   "source": [
    "# Before\n",
    "sns.scatterplot(data=df, x=\"temp\", y=\"atemp\")"
   ]
  },
  {
   "cell_type": "code",
   "execution_count": 4,
   "id": "8eb05189-3525-412c-881f-42421d5ec55a",
   "metadata": {},
   "outputs": [],
   "source": [
    "def dfDate(y,m,d):\n",
    "    start = dt.datetime.strptime(f'{y}-{m}-{d} 00:00:00', '%Y-%m-%d %H:%M:%S')\n",
    "    end = dt.datetime.strptime(f'{y}-{m}-{d+1} 00:00:00', '%Y-%m-%d %H:%M:%S')\n",
    "    df_fun = df.loc[(df.datetime >= start) & (df.datetime < end)]\n",
    "    return df_fun"
   ]
  },
  {
   "cell_type": "code",
   "execution_count": 5,
   "id": "5190a7de-92e4-4ebd-97ce-f29632d6bb4d",
   "metadata": {},
   "outputs": [
    {
     "name": "stderr",
     "output_type": "stream",
     "text": [
      "<ipython-input-5-5d39c755f41c>:5: SettingWithCopyWarning: \n",
      "A value is trying to be set on a copy of a slice from a DataFrame.\n",
      "Try using .loc[row_indexer,col_indexer] = value instead\n",
      "\n",
      "See the caveats in the documentation: https://pandas.pydata.org/pandas-docs/stable/user_guide/indexing.html#returning-a-view-versus-a-copy\n",
      "  df16['hour'] = df16.datetime.dt.hour\n"
     ]
    }
   ],
   "source": [
    "# Erstelle ein DF mit einem Tag vor der 17.8.20\n",
    "\n",
    "df16 = dfDate(2020,8,16)\n",
    "# agg pro Stunde\n",
    "df16['hour'] = df16.datetime.dt.hour\n",
    "df16 = df16.groupby(['hour'],as_index=False).agg({'atemp':'mean'})\n"
   ]
  },
  {
   "cell_type": "code",
   "execution_count": null,
   "id": "74d98ecb-00d1-474a-b7d7-85865c41a07b",
   "metadata": {},
   "outputs": [],
   "source": [
    "\n",
    "\n"
   ]
  },
  {
   "cell_type": "code",
   "execution_count": 6,
   "id": "39451a93-329f-4843-ba35-b837514bbe95",
   "metadata": {},
   "outputs": [
    {
     "name": "stderr",
     "output_type": "stream",
     "text": [
      "<ipython-input-6-3dff26db9594>:7: SettingWithCopyWarning: \n",
      "A value is trying to be set on a copy of a slice from a DataFrame.\n",
      "Try using .loc[row_indexer,col_indexer] = value instead\n",
      "\n",
      "See the caveats in the documentation: https://pandas.pydata.org/pandas-docs/stable/user_guide/indexing.html#returning-a-view-versus-a-copy\n",
      "  df18['hour'] = df18.datetime.dt.hour\n"
     ]
    }
   ],
   "source": [
    "# Erstelle ein DF mit einem Tag nach der 17.8.20\n",
    "# start = dt.datetime.strptime('2020-08-18 00:00:00', '%Y-%m-%d %H:%M:%S')\n",
    "# end = dt.datetime.strptime('2020-08-19 00:00:00', '%Y-%m-%d %H:%M:%S')\n",
    "df18 = dfDate(2020,8,18)\n",
    "\n",
    "# agg pro Stunde\n",
    "df18['hour'] = df18.datetime.dt.hour\n",
    "df18 = df18.groupby(['hour'],as_index=False).agg({'atemp':'mean'})"
   ]
  },
  {
   "cell_type": "code",
   "execution_count": 7,
   "id": "ea776579-29a4-4720-92da-0bb098bd18aa",
   "metadata": {},
   "outputs": [],
   "source": [
    "# Erstelle ein merged von df16 und df18 und berechne die Durchnittlische Temperatur\n",
    "dfmerge = pd.merge(df16,df18, on = 'hour')\n",
    "dfmerge['avgatemp'] = (dfmerge.atemp_x+dfmerge.atemp_y)/2\n"
   ]
  },
  {
   "cell_type": "code",
   "execution_count": 8,
   "id": "f4576775-7647-41ed-9bbc-a7ec8d01f98b",
   "metadata": {},
   "outputs": [],
   "source": [
    "# Wechsel jede atemp\n",
    "df['hour'] = df['datetime'].dt.hour\n",
    "for i in range(23):\n",
    "    start = dt.datetime.strptime(f'2020-08-17 {i}:00:00', '%Y-%m-%d %H:%M:%S')\n",
    "    end = dt.datetime.strptime(f'2020-08-{17} {i+1}:00:00', '%Y-%m-%d %H:%M:%S') \n",
    "    df.loc[(df.datetime >= start) & (df.datetime < end) & (df.hour == i), 'atemp'] = dfmerge['avgatemp'][i] "
   ]
  },
  {
   "cell_type": "code",
   "execution_count": 9,
   "id": "07c671cd-1969-4326-8f7e-79e39c4f36c8",
   "metadata": {},
   "outputs": [],
   "source": [
    "# Wechsel 23:00 - 23:59\n",
    "start1 = dt.datetime.strptime(f'2020-08-17 23:00:00', '%Y-%m-%d %H:%M:%S')  \n",
    "end1 = dt.datetime.strptime(f'2020-08-18 0:00:00', '%Y-%m-%d %H:%M:%S') \n",
    "df.loc[(df.datetime >= start1) & (df.datetime < end1) & (df.hour == 23), 'atemp'] = dfmerge['avgatemp'][23]"
   ]
  },
  {
   "cell_type": "code",
   "execution_count": 10,
   "id": "90ac2435-b2de-44e5-8f3f-c586a3a38122",
   "metadata": {},
   "outputs": [
    {
     "data": {
      "text/plain": [
       "<AxesSubplot:xlabel='temp', ylabel='atemp'>"
      ]
     },
     "execution_count": 10,
     "metadata": {},
     "output_type": "execute_result"
    },
    {
     "data": {
      "image/png": "[encoded data removed]",
      "text/plain": [
       "<Figure size 432x288 with 1 Axes>"
      ]
     },
     "metadata": {
      "needs_background": "light"
     },
     "output_type": "display_data"
    }
   ],
   "source": [
    "# After\n",
    "sns.scatterplot(data=df, x=\"temp\", y=\"atemp\")"
   ]
  },
  {
   "cell_type": "code",
   "execution_count": 11,
   "id": "8f56a183-821f-49d5-8d58-4dea0bdd7050",
   "metadata": {},
   "outputs": [
    {
     "data": {
      "text/plain": [
       "<AxesSubplot:xlabel='temp', ylabel='atemp'>"
      ]
     },
     "execution_count": 11,
     "metadata": {},
     "output_type": "execute_result"
    },
    {
     "data": {
      "image/png": "[encoded data removed]",
      "text/plain": [
       "<Figure size 504x504 with 1 Axes>"
      ]
     },
     "metadata": {
      "needs_background": "light"
     },
     "output_type": "display_data"
    }
   ],
   "source": [
    "df.plot.scatter(x='temp',\n",
    "                    y='atemp',\n",
    "                    c='DarkBlue',figsize=(7,7)) "
   ]
  },
  {
   "cell_type": "code",
   "execution_count": null,
   "id": "485da855-49e4-45e8-a7ce-398cb816fed2",
   "metadata": {},
   "outputs": [],
   "source": []
  }
 ],
 "metadata": {
  "kernelspec": {
   "display_name": "Python 3",
   "language": "python",
   "name": "python3"
  },
  "language_info": {
   "codemirror_mode": {
    "name": "ipython",
    "version": 3
   },
   "file_extension": ".py",
   "mimetype": "text/x-python",
   "name": "python",
   "nbconvert_exporter": "python",
   "pygments_lexer": "ipython3",
   "version": "3.8.8"
  }
 },
 "nbformat": 4,
 "nbformat_minor": 5
}
