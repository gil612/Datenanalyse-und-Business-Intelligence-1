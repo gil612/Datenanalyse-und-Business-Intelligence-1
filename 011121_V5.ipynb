{
 "cells": [
  {
   "cell_type": "code",
   "execution_count": 34,
   "id": "474d830f-e4e7-41e1-bec5-affc31bdbbf3",
   "metadata": {},
   "outputs": [],
   "source": [
    "import pandas as pd\n",
    "import plotly.express as px\n",
    "import seaborn as sns\n",
    "from matplotlib import pyplot as plt\n",
    "import datetime as dt\n",
    "import matplotlib.dates as md"
   ]
  },
  {
   "cell_type": "code",
   "execution_count": 37,
   "id": "c472d654-8668-4c51-be38-4782c2a6aabc",
   "metadata": {},
   "outputs": [],
   "source": [
    "df = pd.read_parquet('escooter_history.parquet', engine='pyarrow')\n",
    "df['weekday'] = pd.Series(df.datetime).dt.day_name()\n",
    "df.workingday = 1\n",
    "df.holiday = 0\n",
    "# set Saturdays and Sundays not as Workingday\n",
    "df.loc[df['weekday'].isin(['Saturday','Sunday']), 'workingday'] = 0\n",
    "\n",
    "# set Tuesdays aans Wednesday as Workingday, but not as Holiday\n",
    "df.loc[df['weekday'].isin(['Tuesday','Wednesday']), 'workingday'] = 1\n",
    "df.loc[df['weekday'].isin(['Tuesday','Wednesday']), 'holiday'] = 0\n",
    "\n",
    "# List of Holidays\n",
    "# Based on https://www.officeholidays.com/countries/usa/2019 , https://www.officeholidays.com/countries/usa/2020\n",
    "holidays2019 = [(2019,1,1),(2019,1,21),(2019,2,18),(2019,5,27),(2019,7,4),(2019,9,2),(2019,10,14),(2019,11,11),(2019,11,28),(2019,12,25)]\n",
    "holidays2020 = [(2020,1,1),(2020,1,20),(2020,2,17),(2020,5,25),(2020,7,3),(2020,7,4),(2020,9,7),(2020,10,12),(2020,11,11),(2020,11,26),(2020,12,25)]\n",
    "\n",
    "# function to set Holidays to 1, Working Day to 0.\n",
    "def setHolidays (t):\n",
    "    y = t[0]\n",
    "    m = t[1]\n",
    "    d = t[2]\n",
    "    \n",
    "    start = dt.datetime.strptime(f'{y}-{m}-{d} 00:00:00', '%Y-%m-%d %H:%M:%S')\n",
    "    end = dt.datetime.strptime(f'{y}-{m}-{d+1} 00:00:00', '%Y-%m-%d %H:%M:%S')\n",
    " \n",
    "    df.loc[(df.datetime >= start) & (df.datetime < end), 'holiday'] = 1\n",
    "    df.loc[(df.datetime >= start) & (df.datetime < end), 'workingday'] = 0\n",
    "for h in (holidays2019+holidays2020): \n",
    "    setHolidays(h) "
   ]
  },
  {
   "cell_type": "code",
   "execution_count": 38,
   "id": "fe42516c-a1d2-4f3a-b397-2eafa41d2a4c",
   "metadata": {},
   "outputs": [],
   "source": [
    "df['rc_true'] = df['registered_customer']\n",
    "df[\"rc_true\"] = df[\"rc_true\"].astype(int)\n",
    "df[\"rc_false\"] = 1 - df[\"rc_true\"]\n",
    "\n",
    "df6 = df.groupby([df.datetime.dt.to_period('H')]).agg({\n",
    "    'holiday':'max',\n",
    "    'workingday':'max',\n",
    "    'weather' : 'max',\n",
    "    'temp' : 'max',\n",
    "    'atemp' : 'max',\n",
    "    'humidity': 'max',\n",
    "    'windspeed' : 'max',\n",
    "    'rc_true': 'sum',\n",
    "    'rc_false': 'sum'\n",
    "            })\n",
    "\n",
    "df6.to_csv('df_reduceV8.csv')"
   ]
  },
  {
   "cell_type": "code",
   "execution_count": 39,
   "id": "47b3e218-aaeb-4a01-99e8-956de2aaf388",
   "metadata": {},
   "outputs": [],
   "source": [
    "df6.reset_index(level=0, inplace=True)\n",
    "df6['datetime'] = df6['datetime'].astype('string') \n",
    "df6['datetime'] = df6['datetime'].astype('datetime64') \n",
    "df6.to_parquet('newEScooter2.parquet')"
   ]
  },
  {
   "cell_type": "code",
   "execution_count": 40,
   "id": "06d37fb4-7527-4a7b-b74e-852aeee2f39c",
   "metadata": {},
   "outputs": [
    {
     "data": {
      "text/plain": [
       "datetime      datetime64[ns]\n",
       "holiday                int64\n",
       "workingday             int64\n",
       "weather               object\n",
       "temp                 float64\n",
       "atemp                float64\n",
       "humidity               int64\n",
       "windspeed            float64\n",
       "rc_true                int32\n",
       "rc_false               int32\n",
       "dtype: object"
      ]
     },
     "execution_count": 40,
     "metadata": {},
     "output_type": "execute_result"
    }
   ],
   "source": [
    "df6.dtypes"
   ]
  },
  {
   "cell_type": "code",
   "execution_count": 41,
   "id": "5f6e7ba2-2273-45f1-a72c-d51c7f6e15b8",
   "metadata": {},
   "outputs": [
    {
     "data": {
      "text/html": [
       "<div>\n",
       "<style scoped>\n",
       "    .dataframe tbody tr th:only-of-type {\n",
       "        vertical-align: middle;\n",
       "    }\n",
       "\n",
       "    .dataframe tbody tr th {\n",
       "        vertical-align: top;\n",
       "    }\n",
       "\n",
       "    .dataframe thead th {\n",
       "        text-align: right;\n",
       "    }\n",
       "</style>\n",
       "<table border=\"1\" class=\"dataframe\">\n",
       "  <thead>\n",
       "    <tr style=\"text-align: right;\">\n",
       "      <th></th>\n",
       "      <th>datetime</th>\n",
       "      <th>holiday</th>\n",
       "      <th>workingday</th>\n",
       "      <th>weather</th>\n",
       "      <th>temp</th>\n",
       "      <th>atemp</th>\n",
       "      <th>humidity</th>\n",
       "      <th>windspeed</th>\n",
       "      <th>rc_true</th>\n",
       "      <th>rc_false</th>\n",
       "    </tr>\n",
       "  </thead>\n",
       "  <tbody>\n",
       "    <tr>\n",
       "      <th>0</th>\n",
       "      <td>2019-01-01 00:00:00</td>\n",
       "      <td>1</td>\n",
       "      <td>0</td>\n",
       "      <td>clear, few clouds</td>\n",
       "      <td>9.84</td>\n",
       "      <td>14.395</td>\n",
       "      <td>81</td>\n",
       "      <td>0.0000</td>\n",
       "      <td>13</td>\n",
       "      <td>3</td>\n",
       "    </tr>\n",
       "    <tr>\n",
       "      <th>1</th>\n",
       "      <td>2019-01-01 01:00:00</td>\n",
       "      <td>1</td>\n",
       "      <td>0</td>\n",
       "      <td>clear, few clouds</td>\n",
       "      <td>9.02</td>\n",
       "      <td>13.635</td>\n",
       "      <td>80</td>\n",
       "      <td>0.0000</td>\n",
       "      <td>32</td>\n",
       "      <td>8</td>\n",
       "    </tr>\n",
       "    <tr>\n",
       "      <th>2</th>\n",
       "      <td>2019-01-01 02:00:00</td>\n",
       "      <td>1</td>\n",
       "      <td>0</td>\n",
       "      <td>clear, few clouds</td>\n",
       "      <td>9.02</td>\n",
       "      <td>13.635</td>\n",
       "      <td>80</td>\n",
       "      <td>0.0000</td>\n",
       "      <td>27</td>\n",
       "      <td>5</td>\n",
       "    </tr>\n",
       "    <tr>\n",
       "      <th>3</th>\n",
       "      <td>2019-01-01 03:00:00</td>\n",
       "      <td>1</td>\n",
       "      <td>0</td>\n",
       "      <td>clear, few clouds</td>\n",
       "      <td>9.84</td>\n",
       "      <td>14.395</td>\n",
       "      <td>75</td>\n",
       "      <td>0.0000</td>\n",
       "      <td>10</td>\n",
       "      <td>3</td>\n",
       "    </tr>\n",
       "    <tr>\n",
       "      <th>4</th>\n",
       "      <td>2019-01-01 04:00:00</td>\n",
       "      <td>1</td>\n",
       "      <td>0</td>\n",
       "      <td>clear, few clouds</td>\n",
       "      <td>9.84</td>\n",
       "      <td>14.395</td>\n",
       "      <td>75</td>\n",
       "      <td>0.0000</td>\n",
       "      <td>1</td>\n",
       "      <td>0</td>\n",
       "    </tr>\n",
       "    <tr>\n",
       "      <th>...</th>\n",
       "      <td>...</td>\n",
       "      <td>...</td>\n",
       "      <td>...</td>\n",
       "      <td>...</td>\n",
       "      <td>...</td>\n",
       "      <td>...</td>\n",
       "      <td>...</td>\n",
       "      <td>...</td>\n",
       "      <td>...</td>\n",
       "      <td>...</td>\n",
       "    </tr>\n",
       "    <tr>\n",
       "      <th>17374</th>\n",
       "      <td>2020-12-31 19:00:00</td>\n",
       "      <td>0</td>\n",
       "      <td>1</td>\n",
       "      <td>cloudy, mist</td>\n",
       "      <td>10.66</td>\n",
       "      <td>12.880</td>\n",
       "      <td>60</td>\n",
       "      <td>11.0014</td>\n",
       "      <td>299</td>\n",
       "      <td>7</td>\n",
       "    </tr>\n",
       "    <tr>\n",
       "      <th>17375</th>\n",
       "      <td>2020-12-31 20:00:00</td>\n",
       "      <td>0</td>\n",
       "      <td>1</td>\n",
       "      <td>cloudy, mist</td>\n",
       "      <td>10.66</td>\n",
       "      <td>12.880</td>\n",
       "      <td>60</td>\n",
       "      <td>11.0014</td>\n",
       "      <td>199</td>\n",
       "      <td>5</td>\n",
       "    </tr>\n",
       "    <tr>\n",
       "      <th>17376</th>\n",
       "      <td>2020-12-31 21:00:00</td>\n",
       "      <td>0</td>\n",
       "      <td>1</td>\n",
       "      <td>clear, few clouds</td>\n",
       "      <td>10.66</td>\n",
       "      <td>12.880</td>\n",
       "      <td>60</td>\n",
       "      <td>11.0014</td>\n",
       "      <td>146</td>\n",
       "      <td>3</td>\n",
       "    </tr>\n",
       "    <tr>\n",
       "      <th>17377</th>\n",
       "      <td>2020-12-31 22:00:00</td>\n",
       "      <td>0</td>\n",
       "      <td>1</td>\n",
       "      <td>clear, few clouds</td>\n",
       "      <td>10.66</td>\n",
       "      <td>13.635</td>\n",
       "      <td>56</td>\n",
       "      <td>8.9981</td>\n",
       "      <td>109</td>\n",
       "      <td>5</td>\n",
       "    </tr>\n",
       "    <tr>\n",
       "      <th>17378</th>\n",
       "      <td>2020-12-31 23:00:00</td>\n",
       "      <td>0</td>\n",
       "      <td>1</td>\n",
       "      <td>clear, few clouds</td>\n",
       "      <td>10.66</td>\n",
       "      <td>13.635</td>\n",
       "      <td>65</td>\n",
       "      <td>8.9981</td>\n",
       "      <td>57</td>\n",
       "      <td>3</td>\n",
       "    </tr>\n",
       "  </tbody>\n",
       "</table>\n",
       "<p>17379 rows × 10 columns</p>\n",
       "</div>"
      ],
      "text/plain": [
       "                 datetime  holiday  workingday            weather   temp  \\\n",
       "0     2019-01-01 00:00:00        1           0  clear, few clouds   9.84   \n",
       "1     2019-01-01 01:00:00        1           0  clear, few clouds   9.02   \n",
       "2     2019-01-01 02:00:00        1           0  clear, few clouds   9.02   \n",
       "3     2019-01-01 03:00:00        1           0  clear, few clouds   9.84   \n",
       "4     2019-01-01 04:00:00        1           0  clear, few clouds   9.84   \n",
       "...                   ...      ...         ...                ...    ...   \n",
       "17374 2020-12-31 19:00:00        0           1       cloudy, mist  10.66   \n",
       "17375 2020-12-31 20:00:00        0           1       cloudy, mist  10.66   \n",
       "17376 2020-12-31 21:00:00        0           1  clear, few clouds  10.66   \n",
       "17377 2020-12-31 22:00:00        0           1  clear, few clouds  10.66   \n",
       "17378 2020-12-31 23:00:00        0           1  clear, few clouds  10.66   \n",
       "\n",
       "        atemp  humidity  windspeed  rc_true  rc_false  \n",
       "0      14.395        81     0.0000       13         3  \n",
       "1      13.635        80     0.0000       32         8  \n",
       "2      13.635        80     0.0000       27         5  \n",
       "3      14.395        75     0.0000       10         3  \n",
       "4      14.395        75     0.0000        1         0  \n",
       "...       ...       ...        ...      ...       ...  \n",
       "17374  12.880        60    11.0014      299         7  \n",
       "17375  12.880        60    11.0014      199         5  \n",
       "17376  12.880        60    11.0014      146         3  \n",
       "17377  13.635        56     8.9981      109         5  \n",
       "17378  13.635        65     8.9981       57         3  \n",
       "\n",
       "[17379 rows x 10 columns]"
      ]
     },
     "execution_count": 41,
     "metadata": {},
     "output_type": "execute_result"
    }
   ],
   "source": [
    "df = pd.read_parquet('newEScooter2.parquet', engine='pyarrow')\n",
    "df"
   ]
  },
  {
   "cell_type": "code",
   "execution_count": 42,
   "id": "4193a0e4-1c12-40dd-9582-61f46e9797d5",
   "metadata": {},
   "outputs": [
    {
     "data": {
      "text/html": [
       "<div>\n",
       "<style scoped>\n",
       "    .dataframe tbody tr th:only-of-type {\n",
       "        vertical-align: middle;\n",
       "    }\n",
       "\n",
       "    .dataframe tbody tr th {\n",
       "        vertical-align: top;\n",
       "    }\n",
       "\n",
       "    .dataframe thead th {\n",
       "        text-align: right;\n",
       "    }\n",
       "</style>\n",
       "<table border=\"1\" class=\"dataframe\">\n",
       "  <thead>\n",
       "    <tr style=\"text-align: right;\">\n",
       "      <th></th>\n",
       "      <th>holiday</th>\n",
       "      <th>workingday</th>\n",
       "      <th>rc_true</th>\n",
       "      <th>rc_false</th>\n",
       "    </tr>\n",
       "    <tr>\n",
       "      <th>datetime</th>\n",
       "      <th></th>\n",
       "      <th></th>\n",
       "      <th></th>\n",
       "      <th></th>\n",
       "    </tr>\n",
       "  </thead>\n",
       "  <tbody>\n",
       "    <tr>\n",
       "      <th>2019-01-01</th>\n",
       "      <td>1</td>\n",
       "      <td>0</td>\n",
       "      <td>654</td>\n",
       "      <td>331</td>\n",
       "    </tr>\n",
       "    <tr>\n",
       "      <th>2019-01-02</th>\n",
       "      <td>0</td>\n",
       "      <td>1</td>\n",
       "      <td>670</td>\n",
       "      <td>131</td>\n",
       "    </tr>\n",
       "    <tr>\n",
       "      <th>2019-01-03</th>\n",
       "      <td>0</td>\n",
       "      <td>1</td>\n",
       "      <td>1229</td>\n",
       "      <td>120</td>\n",
       "    </tr>\n",
       "    <tr>\n",
       "      <th>2019-01-04</th>\n",
       "      <td>0</td>\n",
       "      <td>1</td>\n",
       "      <td>1454</td>\n",
       "      <td>108</td>\n",
       "    </tr>\n",
       "    <tr>\n",
       "      <th>2019-01-05</th>\n",
       "      <td>0</td>\n",
       "      <td>0</td>\n",
       "      <td>1518</td>\n",
       "      <td>82</td>\n",
       "    </tr>\n",
       "    <tr>\n",
       "      <th>...</th>\n",
       "      <td>...</td>\n",
       "      <td>...</td>\n",
       "      <td>...</td>\n",
       "      <td>...</td>\n",
       "    </tr>\n",
       "    <tr>\n",
       "      <th>2020-12-27</th>\n",
       "      <td>0</td>\n",
       "      <td>0</td>\n",
       "      <td>4024</td>\n",
       "      <td>207</td>\n",
       "    </tr>\n",
       "    <tr>\n",
       "      <th>2020-12-28</th>\n",
       "      <td>0</td>\n",
       "      <td>1</td>\n",
       "      <td>4381</td>\n",
       "      <td>248</td>\n",
       "    </tr>\n",
       "    <tr>\n",
       "      <th>2020-12-29</th>\n",
       "      <td>0</td>\n",
       "      <td>1</td>\n",
       "      <td>2777</td>\n",
       "      <td>310</td>\n",
       "    </tr>\n",
       "    <tr>\n",
       "      <th>2020-12-30</th>\n",
       "      <td>0</td>\n",
       "      <td>1</td>\n",
       "      <td>2440</td>\n",
       "      <td>446</td>\n",
       "    </tr>\n",
       "    <tr>\n",
       "      <th>2020-12-31</th>\n",
       "      <td>0</td>\n",
       "      <td>1</td>\n",
       "      <td>4203</td>\n",
       "      <td>226</td>\n",
       "    </tr>\n",
       "  </tbody>\n",
       "</table>\n",
       "<p>731 rows × 4 columns</p>\n",
       "</div>"
      ],
      "text/plain": [
       "            holiday  workingday  rc_true  rc_false\n",
       "datetime                                          \n",
       "2019-01-01        1           0      654       331\n",
       "2019-01-02        0           1      670       131\n",
       "2019-01-03        0           1     1229       120\n",
       "2019-01-04        0           1     1454       108\n",
       "2019-01-05        0           0     1518        82\n",
       "...             ...         ...      ...       ...\n",
       "2020-12-27        0           0     4024       207\n",
       "2020-12-28        0           1     4381       248\n",
       "2020-12-29        0           1     2777       310\n",
       "2020-12-30        0           1     2440       446\n",
       "2020-12-31        0           1     4203       226\n",
       "\n",
       "[731 rows x 4 columns]"
      ]
     },
     "execution_count": 42,
     "metadata": {},
     "output_type": "execute_result"
    }
   ],
   "source": [
    "df = df.groupby([df.datetime.dt.to_period('D')]).agg({\n",
    "    'holiday' : 'max',\n",
    "    'workingday' : 'max',\n",
    "    'rc_true': 'sum',\n",
    "    'rc_false': 'sum'\n",
    "            })\n",
    "df"
   ]
  },
  {
   "cell_type": "code",
   "execution_count": 54,
   "id": "a4ed33f1-2b14-4021-bbc9-5dd177ae0acc",
   "metadata": {},
   "outputs": [
    {
     "data": {
      "text/html": [
       "<div>\n",
       "<style scoped>\n",
       "    .dataframe tbody tr th:only-of-type {\n",
       "        vertical-align: middle;\n",
       "    }\n",
       "\n",
       "    .dataframe tbody tr th {\n",
       "        vertical-align: top;\n",
       "    }\n",
       "\n",
       "    .dataframe thead th {\n",
       "        text-align: right;\n",
       "    }\n",
       "</style>\n",
       "<table border=\"1\" class=\"dataframe\">\n",
       "  <thead>\n",
       "    <tr style=\"text-align: right;\">\n",
       "      <th></th>\n",
       "      <th>holiday</th>\n",
       "      <th>workingday</th>\n",
       "      <th>rc_true</th>\n",
       "      <th>rc_false</th>\n",
       "    </tr>\n",
       "  </thead>\n",
       "  <tbody>\n",
       "    <tr>\n",
       "      <th>count</th>\n",
       "      <td>731.00</td>\n",
       "      <td>731.00</td>\n",
       "      <td>731.00</td>\n",
       "      <td>731.00</td>\n",
       "    </tr>\n",
       "    <tr>\n",
       "      <th>mean</th>\n",
       "      <td>0.03</td>\n",
       "      <td>0.69</td>\n",
       "      <td>3665.08</td>\n",
       "      <td>843.84</td>\n",
       "    </tr>\n",
       "    <tr>\n",
       "      <th>std</th>\n",
       "      <td>0.17</td>\n",
       "      <td>0.46</td>\n",
       "      <td>1492.75</td>\n",
       "      <td>676.94</td>\n",
       "    </tr>\n",
       "    <tr>\n",
       "      <th>min</th>\n",
       "      <td>0.00</td>\n",
       "      <td>0.00</td>\n",
       "      <td>17.00</td>\n",
       "      <td>5.00</td>\n",
       "    </tr>\n",
       "    <tr>\n",
       "      <th>25%</th>\n",
       "      <td>0.00</td>\n",
       "      <td>0.00</td>\n",
       "      <td>2631.00</td>\n",
       "      <td>323.00</td>\n",
       "    </tr>\n",
       "    <tr>\n",
       "      <th>50%</th>\n",
       "      <td>0.00</td>\n",
       "      <td>1.00</td>\n",
       "      <td>3633.00</td>\n",
       "      <td>706.00</td>\n",
       "    </tr>\n",
       "    <tr>\n",
       "      <th>75%</th>\n",
       "      <td>0.00</td>\n",
       "      <td>1.00</td>\n",
       "      <td>4739.00</td>\n",
       "      <td>1111.50</td>\n",
       "    </tr>\n",
       "    <tr>\n",
       "      <th>max</th>\n",
       "      <td>1.00</td>\n",
       "      <td>1.00</td>\n",
       "      <td>6959.00</td>\n",
       "      <td>3410.00</td>\n",
       "    </tr>\n",
       "  </tbody>\n",
       "</table>\n",
       "</div>"
      ],
      "text/plain": [
       "       holiday  workingday  rc_true  rc_false\n",
       "count   731.00      731.00   731.00    731.00\n",
       "mean      0.03        0.69  3665.08    843.84\n",
       "std       0.17        0.46  1492.75    676.94\n",
       "min       0.00        0.00    17.00      5.00\n",
       "25%       0.00        0.00  2631.00    323.00\n",
       "50%       0.00        1.00  3633.00    706.00\n",
       "75%       0.00        1.00  4739.00   1111.50\n",
       "max       1.00        1.00  6959.00   3410.00"
      ]
     },
     "execution_count": 54,
     "metadata": {},
     "output_type": "execute_result"
    }
   ],
   "source": [
    "df.describe().round(2)"
   ]
  },
  {
   "cell_type": "code",
   "execution_count": 55,
   "id": "68577b5e-734f-4fbf-acc2-28d4e8084211",
   "metadata": {},
   "outputs": [
    {
     "data": {
      "text/plain": [
       "1"
      ]
     },
     "execution_count": 55,
     "metadata": {},
     "output_type": "execute_result"
    }
   ],
   "source": [
    "df.workingday.max()"
   ]
  },
  {
   "cell_type": "code",
   "execution_count": 56,
   "id": "c706baef-0f2a-466e-91b1-3a6828a8e4ed",
   "metadata": {},
   "outputs": [
    {
     "data": {
      "text/html": [
       "<div>\n",
       "<style scoped>\n",
       "    .dataframe tbody tr th:only-of-type {\n",
       "        vertical-align: middle;\n",
       "    }\n",
       "\n",
       "    .dataframe tbody tr th {\n",
       "        vertical-align: top;\n",
       "    }\n",
       "\n",
       "    .dataframe thead th {\n",
       "        text-align: right;\n",
       "    }\n",
       "</style>\n",
       "<table border=\"1\" class=\"dataframe\">\n",
       "  <thead>\n",
       "    <tr style=\"text-align: right;\">\n",
       "      <th>workingday</th>\n",
       "      <th>0</th>\n",
       "      <th>1</th>\n",
       "    </tr>\n",
       "    <tr>\n",
       "      <th>holiday</th>\n",
       "      <th></th>\n",
       "      <th></th>\n",
       "    </tr>\n",
       "  </thead>\n",
       "  <tbody>\n",
       "    <tr>\n",
       "      <th>0</th>\n",
       "      <td>207</td>\n",
       "      <td>503</td>\n",
       "    </tr>\n",
       "    <tr>\n",
       "      <th>1</th>\n",
       "      <td>21</td>\n",
       "      <td>0</td>\n",
       "    </tr>\n",
       "  </tbody>\n",
       "</table>\n",
       "</div>"
      ],
      "text/plain": [
       "workingday    0    1\n",
       "holiday             \n",
       "0           207  503\n",
       "1            21    0"
      ]
     },
     "execution_count": 56,
     "metadata": {},
     "output_type": "execute_result"
    }
   ],
   "source": [
    "pd.crosstab(df['holiday'],df['workingday'])"
   ]
  },
  {
   "cell_type": "code",
   "execution_count": 57,
   "id": "95661465-5f25-4023-882f-491659ebfece",
   "metadata": {},
   "outputs": [
    {
     "data": {
      "text/plain": [
       "3686.0"
      ]
     },
     "execution_count": 57,
     "metadata": {},
     "output_type": "execute_result"
    }
   ],
   "source": [
    "df.loc[df['holiday'] == 1].rc_true.sum() / 21"
   ]
  },
  {
   "cell_type": "code",
   "execution_count": 58,
   "id": "74090ba2-05b7-4159-aedc-524cd6559b98",
   "metadata": {},
   "outputs": [
    {
     "data": {
      "text/plain": [
       "3664.461971830986"
      ]
     },
     "execution_count": 58,
     "metadata": {},
     "output_type": "execute_result"
    }
   ],
   "source": [
    "df.loc[df['holiday'] == 0].rc_true.sum() / (731-21)"
   ]
  },
  {
   "cell_type": "code",
   "execution_count": 59,
   "id": "c5b6dc68-efea-43e3-96fa-8d5f33a20dfd",
   "metadata": {},
   "outputs": [
    {
     "data": {
      "text/plain": [
       "3520.2564612326046"
      ]
     },
     "execution_count": 59,
     "metadata": {},
     "output_type": "execute_result"
    }
   ],
   "source": [
    "df.loc[df['workingday'] == 1].rc_true.sum() / 503"
   ]
  },
  {
   "cell_type": "code",
   "execution_count": 60,
   "id": "c16035c3-c9a6-4446-a721-f6c50e3d874f",
   "metadata": {},
   "outputs": [
    {
     "data": {
      "text/plain": [
       "3984.5833333333335"
      ]
     },
     "execution_count": 60,
     "metadata": {},
     "output_type": "execute_result"
    }
   ],
   "source": [
    "df.loc[df['workingday'] == 0].rc_true.sum() / (207+21)"
   ]
  },
  {
   "cell_type": "code",
   "execution_count": 61,
   "id": "11763bd3-b1fc-43c4-9b7c-ff0a5587e051",
   "metadata": {},
   "outputs": [
    {
     "data": {
      "text/plain": [
       "4014.8743961352657"
      ]
     },
     "execution_count": 61,
     "metadata": {},
     "output_type": "execute_result"
    }
   ],
   "source": [
    "df.loc[(df['workingday'] == 0) & (df['holiday'] == 0)].rc_true.sum() / 207"
   ]
  },
  {
   "cell_type": "code",
   "execution_count": 62,
   "id": "977c257f-594b-445b-8b4d-af300fcf6607",
   "metadata": {},
   "outputs": [
    {
     "data": {
      "text/plain": [
       "916.2380952380952"
      ]
     },
     "execution_count": 62,
     "metadata": {},
     "output_type": "execute_result"
    }
   ],
   "source": [
    "df.loc[df['holiday'] == 1].rc_false.sum() / 21"
   ]
  },
  {
   "cell_type": "code",
   "execution_count": 63,
   "id": "4175f269-d5f5-4b6f-b121-2c2f3f026823",
   "metadata": {},
   "outputs": [
    {
     "data": {
      "text/plain": [
       "841.6985915492958"
      ]
     },
     "execution_count": 63,
     "metadata": {},
     "output_type": "execute_result"
    }
   ],
   "source": [
    "df.loc[df['holiday'] == 0].rc_false.sum() / (731-21)"
   ]
  },
  {
   "cell_type": "code",
   "execution_count": 64,
   "id": "db674b9d-7139-459b-8538-bd5b88be7868",
   "metadata": {},
   "outputs": [
    {
     "data": {
      "text/plain": [
       "959.817097415507"
      ]
     },
     "execution_count": 64,
     "metadata": {},
     "output_type": "execute_result"
    }
   ],
   "source": [
    "df.loc[df['workingday'] == 1].rc_false.sum() / 503"
   ]
  },
  {
   "cell_type": "code",
   "execution_count": 65,
   "id": "aeb555b5-7eee-4aa3-ae32-33d1456c2e24",
   "metadata": {},
   "outputs": [
    {
     "data": {
      "text/plain": [
       "587.9780701754386"
      ]
     },
     "execution_count": 65,
     "metadata": {},
     "output_type": "execute_result"
    }
   ],
   "source": [
    "df.loc[df['workingday'] == 0].rc_false.sum() / (207+21)"
   ]
  },
  {
   "cell_type": "code",
   "execution_count": 66,
   "id": "c27a5ded-917c-48a4-97a2-c6cbc92409cb",
   "metadata": {},
   "outputs": [
    {
     "data": {
      "text/plain": [
       "554.6763285024155"
      ]
     },
     "execution_count": 66,
     "metadata": {},
     "output_type": "execute_result"
    }
   ],
   "source": [
    "df.loc[(df['workingday'] == 0) & (df['holiday'] == 0)].rc_false.sum() / 207"
   ]
  },
  {
   "cell_type": "code",
   "execution_count": 69,
   "id": "895a01dd-ac91-4a08-80e4-d26f44bb9c6a",
   "metadata": {},
   "outputs": [],
   "source": [
    "df['rc_sum'] = df.rc_true + df.rc_false"
   ]
  },
  {
   "cell_type": "code",
   "execution_count": 70,
   "id": "dd5b203a-7082-43e7-b4e8-ce69e2287e70",
   "metadata": {},
   "outputs": [
    {
     "data": {
      "text/html": [
       "<div>\n",
       "<style scoped>\n",
       "    .dataframe tbody tr th:only-of-type {\n",
       "        vertical-align: middle;\n",
       "    }\n",
       "\n",
       "    .dataframe tbody tr th {\n",
       "        vertical-align: top;\n",
       "    }\n",
       "\n",
       "    .dataframe thead th {\n",
       "        text-align: right;\n",
       "    }\n",
       "</style>\n",
       "<table border=\"1\" class=\"dataframe\">\n",
       "  <thead>\n",
       "    <tr style=\"text-align: right;\">\n",
       "      <th></th>\n",
       "      <th>holiday</th>\n",
       "      <th>workingday</th>\n",
       "      <th>rc_true</th>\n",
       "      <th>rc_false</th>\n",
       "      <th>rc_sum</th>\n",
       "    </tr>\n",
       "    <tr>\n",
       "      <th>datetime</th>\n",
       "      <th></th>\n",
       "      <th></th>\n",
       "      <th></th>\n",
       "      <th></th>\n",
       "      <th></th>\n",
       "    </tr>\n",
       "  </thead>\n",
       "  <tbody>\n",
       "    <tr>\n",
       "      <th>2019-01-01</th>\n",
       "      <td>1</td>\n",
       "      <td>0</td>\n",
       "      <td>654</td>\n",
       "      <td>331</td>\n",
       "      <td>985</td>\n",
       "    </tr>\n",
       "    <tr>\n",
       "      <th>2019-01-02</th>\n",
       "      <td>0</td>\n",
       "      <td>1</td>\n",
       "      <td>670</td>\n",
       "      <td>131</td>\n",
       "      <td>801</td>\n",
       "    </tr>\n",
       "    <tr>\n",
       "      <th>2019-01-03</th>\n",
       "      <td>0</td>\n",
       "      <td>1</td>\n",
       "      <td>1229</td>\n",
       "      <td>120</td>\n",
       "      <td>1349</td>\n",
       "    </tr>\n",
       "    <tr>\n",
       "      <th>2019-01-04</th>\n",
       "      <td>0</td>\n",
       "      <td>1</td>\n",
       "      <td>1454</td>\n",
       "      <td>108</td>\n",
       "      <td>1562</td>\n",
       "    </tr>\n",
       "    <tr>\n",
       "      <th>2019-01-05</th>\n",
       "      <td>0</td>\n",
       "      <td>0</td>\n",
       "      <td>1518</td>\n",
       "      <td>82</td>\n",
       "      <td>1600</td>\n",
       "    </tr>\n",
       "    <tr>\n",
       "      <th>...</th>\n",
       "      <td>...</td>\n",
       "      <td>...</td>\n",
       "      <td>...</td>\n",
       "      <td>...</td>\n",
       "      <td>...</td>\n",
       "    </tr>\n",
       "    <tr>\n",
       "      <th>2020-12-27</th>\n",
       "      <td>0</td>\n",
       "      <td>0</td>\n",
       "      <td>4024</td>\n",
       "      <td>207</td>\n",
       "      <td>4231</td>\n",
       "    </tr>\n",
       "    <tr>\n",
       "      <th>2020-12-28</th>\n",
       "      <td>0</td>\n",
       "      <td>1</td>\n",
       "      <td>4381</td>\n",
       "      <td>248</td>\n",
       "      <td>4629</td>\n",
       "    </tr>\n",
       "    <tr>\n",
       "      <th>2020-12-29</th>\n",
       "      <td>0</td>\n",
       "      <td>1</td>\n",
       "      <td>2777</td>\n",
       "      <td>310</td>\n",
       "      <td>3087</td>\n",
       "    </tr>\n",
       "    <tr>\n",
       "      <th>2020-12-30</th>\n",
       "      <td>0</td>\n",
       "      <td>1</td>\n",
       "      <td>2440</td>\n",
       "      <td>446</td>\n",
       "      <td>2886</td>\n",
       "    </tr>\n",
       "    <tr>\n",
       "      <th>2020-12-31</th>\n",
       "      <td>0</td>\n",
       "      <td>1</td>\n",
       "      <td>4203</td>\n",
       "      <td>226</td>\n",
       "      <td>4429</td>\n",
       "    </tr>\n",
       "  </tbody>\n",
       "</table>\n",
       "<p>731 rows × 5 columns</p>\n",
       "</div>"
      ],
      "text/plain": [
       "            holiday  workingday  rc_true  rc_false  rc_sum\n",
       "datetime                                                  \n",
       "2019-01-01        1           0      654       331     985\n",
       "2019-01-02        0           1      670       131     801\n",
       "2019-01-03        0           1     1229       120    1349\n",
       "2019-01-04        0           1     1454       108    1562\n",
       "2019-01-05        0           0     1518        82    1600\n",
       "...             ...         ...      ...       ...     ...\n",
       "2020-12-27        0           0     4024       207    4231\n",
       "2020-12-28        0           1     4381       248    4629\n",
       "2020-12-29        0           1     2777       310    3087\n",
       "2020-12-30        0           1     2440       446    2886\n",
       "2020-12-31        0           1     4203       226    4429\n",
       "\n",
       "[731 rows x 5 columns]"
      ]
     },
     "execution_count": 70,
     "metadata": {},
     "output_type": "execute_result"
    }
   ],
   "source": [
    "df"
   ]
  },
  {
   "cell_type": "code",
   "execution_count": 71,
   "id": "a268cd31-203d-45f3-9c98-ba98a13191f7",
   "metadata": {},
   "outputs": [
    {
     "data": {
      "text/plain": [
       "4602.238095238095"
      ]
     },
     "execution_count": 71,
     "metadata": {},
     "output_type": "execute_result"
    }
   ],
   "source": [
    "df.loc[df['holiday'] == 1].rc_sum.sum() / 21"
   ]
  },
  {
   "cell_type": "code",
   "execution_count": 72,
   "id": "113b2750-ae8d-4ca1-8506-e0e992c5f69f",
   "metadata": {},
   "outputs": [
    {
     "data": {
      "text/plain": [
       "4506.160563380282"
      ]
     },
     "execution_count": 72,
     "metadata": {},
     "output_type": "execute_result"
    }
   ],
   "source": [
    "df.loc[df['holiday'] == 0].rc_sum.sum() / (731-21)"
   ]
  },
  {
   "cell_type": "code",
   "execution_count": 73,
   "id": "c03dfaed-1a99-4a38-8ddb-80370d68eff2",
   "metadata": {},
   "outputs": [
    {
     "data": {
      "text/plain": [
       "4480.073558648111"
      ]
     },
     "execution_count": 73,
     "metadata": {},
     "output_type": "execute_result"
    }
   ],
   "source": [
    "df.loc[df['workingday'] == 1].rc_sum.sum() / 503"
   ]
  },
  {
   "cell_type": "code",
   "execution_count": 74,
   "id": "d60818c1-d246-489a-b88a-14d1e038e059",
   "metadata": {},
   "outputs": [
    {
     "data": {
      "text/plain": [
       "4572.561403508772"
      ]
     },
     "execution_count": 74,
     "metadata": {},
     "output_type": "execute_result"
    }
   ],
   "source": [
    "df.loc[df['workingday'] == 0].rc_sum.sum() / (207+21)"
   ]
  },
  {
   "cell_type": "code",
   "execution_count": 75,
   "id": "8ae163e2-86ea-42f8-beba-1046f070c84e",
   "metadata": {},
   "outputs": [
    {
     "data": {
      "text/plain": [
       "4569.550724637681"
      ]
     },
     "execution_count": 75,
     "metadata": {},
     "output_type": "execute_result"
    }
   ],
   "source": [
    "df.loc[(df['workingday'] == 0) & (df['holiday'] == 0)].rc_sum.sum() / 207"
   ]
  },
  {
   "cell_type": "code",
   "execution_count": null,
   "id": "d9017e76-64a4-4fbc-9996-d36e40258db8",
   "metadata": {},
   "outputs": [],
   "source": []
  }
 ],
 "metadata": {
  "kernelspec": {
   "display_name": "Python 3",
   "language": "python",
   "name": "python3"
  },
  "language_info": {
   "codemirror_mode": {
    "name": "ipython",
    "version": 3
   },
   "file_extension": ".py",
   "mimetype": "text/x-python",
   "name": "python",
   "nbconvert_exporter": "python",
   "pygments_lexer": "ipython3",
   "version": "3.8.8"
  }
 },
 "nbformat": 4,
 "nbformat_minor": 5
}
