{
 "cells": [
  {
   "cell_type": "code",
   "execution_count": 1,
   "id": "f68f85fd-a2db-4577-8811-ec69d0610e02",
   "metadata": {},
   "outputs": [],
   "source": [
    "import pandas as pd"
   ]
  },
  {
   "cell_type": "code",
   "execution_count": 2,
   "id": "57040434-d048-4c02-93e6-8fdf655e24a5",
   "metadata": {},
   "outputs": [],
   "source": [
    "df = pd.read_parquet('escooter_history.parquet', engine='pyarrow')"
   ]
  },
  {
   "cell_type": "code",
   "execution_count": 3,
   "id": "04571d3b-fbc1-470c-a287-2820a88f59d6",
   "metadata": {},
   "outputs": [],
   "source": [
    "df['rc_true'] = df['registered_customer']\n",
    "df[\"rc_true\"] = df[\"rc_true\"].astype(int)\n",
    "df[\"rc_false\"] = 1 - df[\"rc_true\"]\n",
    "\n",
    "df_agg = df.groupby([df.datetime.dt.to_period('H')]).agg({\n",
    "    'holiday':'max',\n",
    "    'workingday':'max',\n",
    "    'weather' : 'max',\n",
    "    'temp' : 'max',\n",
    "    'atemp' : 'max',\n",
    "    'humidity': 'max',\n",
    "    'windspeed' : 'max',\n",
    "    'rc_true': 'sum',\n",
    "    'rc_false': 'sum'\n",
    "            })"
   ]
  }
 ],
 "metadata": {
  "kernelspec": {
   "display_name": "Python 3",
   "language": "python",
   "name": "python3"
  },
  "language_info": {
   "codemirror_mode": {
    "name": "ipython",
    "version": 3
   },
   "file_extension": ".py",
   "mimetype": "text/x-python",
   "name": "python",
   "nbconvert_exporter": "python",
   "pygments_lexer": "ipython3",
   "version": "3.8.8"
  }
 },
 "nbformat": 4,
 "nbformat_minor": 5
}
